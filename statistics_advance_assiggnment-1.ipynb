{
 "cells": [
  {
   "cell_type": "code",
   "execution_count": 1,
   "id": "8dbd4b62-608e-4663-8f01-bd8e00ee9ff4",
   "metadata": {},
   "outputs": [],
   "source": [
    "# Q1. What is the Probability density function?"
   ]
  },
  {
   "cell_type": "markdown",
   "id": "348b410e-3248-4a11-af33-196b39ba22b7",
   "metadata": {},
   "source": [
    "ANS =A Probability Density Function (PDF) is a concept used in probability theory and statistics to describe the likelihood of a continuous random variable falling within a particular range of values.\n",
    "\n",
    "Mathematically, for a continuous random variable X, the PDF, denoted as \n",
    "f(x), is a function that assigns probabilities to different outcomes in a way that the area under the curve over a range of values corresponds to the probability of the variable falling within that range.\n",
    "\n"
   ]
  },
  {
   "cell_type": "code",
   "execution_count": 2,
   "id": "adfe4f42-0cb1-4273-b36c-ae7507c7242c",
   "metadata": {},
   "outputs": [],
   "source": [
    "# Q2. What are the types of Probability distribution?"
   ]
  },
  {
   "cell_type": "markdown",
   "id": "7988926c-1e8a-4b1a-b54f-463d3628bbb6",
   "metadata": {},
   "source": [
    "ANS = \n",
    "Probability distributions are mathematical functions that describe the likelihood of different outcomes in a sample space. There are various types of probability distributions, categorized based on the nature of the random variable they describe. Some common types include:\n",
    "\n",
    "Discrete Probability Distributions:\n",
    "\n",
    "Bernoulli Distribution: \n",
    "\n",
    "Models a single trial with two outcomes, usually labeled as success and failure.\n",
    "\n",
    "Binomial Distribution:\n",
    "\n",
    "Describes the number of successes in a fixed number of independent Bernoulli trials.\n",
    "Poisson Distribution:\n",
    "\n",
    "Models the number of events occurring in a fixed interval of time or space, given a known average rate of occurrence.\n",
    "Continuous Probability Distributions:\n",
    "\n",
    "Normal (Gaussian) Distribution:\n",
    "\n",
    "Often called the bell curve, it is characterized by a symmetric, bell-shaped curve. Many natural phenomena approximate this distribution.\n",
    "\n",
    "Uniform Distribution:\n",
    "\n",
    "All outcomes in the sample space are equally likely to occur.\n",
    "\n",
    "Exponential Distribution:\n",
    "\n",
    "Describes the time between events in a Poisson process, where events occur continuously and independently at a constant average rate.\n",
    "\n",
    "Multinomial Distribution: Generalizes the binomial distribution to more than two categories.\n",
    "\n",
    "Beta Distribution: Often used to model probabilities or proportions.\n",
    "\n",
    "Gamma Distribution: Used to model the time until an event occurs.\n",
    "\n",
    "Logistic Distribution: Describes growth processes.\n",
    "\n",
    "Chi-Square Distribution: Used in hypothesis testing and confidence interval construction.\n",
    "\n",
    "Student's t-Distribution: Widely used in hypothesis testing when the sample size is small and the population standard deviation is unknown."
   ]
  },
  {
   "cell_type": "code",
   "execution_count": 1,
   "id": "4365656f-6a0b-467f-9138-a815f3047885",
   "metadata": {},
   "outputs": [],
   "source": [
    "#Q3. Write a Python function to calculate the probability density function of a normal distribution with\n",
    "# given mean and standard deviation at a given point."
   ]
  },
  {
   "cell_type": "code",
   "execution_count": 3,
   "id": "487b46b1-9415-4871-a180-c4437205e576",
   "metadata": {},
   "outputs": [
    {
     "name": "stdout",
     "output_type": "stream",
     "text": [
      "PDF at x = 1.5 : 0.12951759566589174\n"
     ]
    }
   ],
   "source": [
    "import math\n",
    "\n",
    "def normal_pdf(x, mu, sigma):\n",
    "   \n",
    "    \n",
    "    exponent = -((x - mu) ** 2) / (2 * sigma ** 2)\n",
    "    \n",
    "    \n",
    "    normalization = 1 / (sigma * math.sqrt(2 * math.pi))\n",
    "    \n",
    "    \n",
    "    \n",
    "    pdf = normalization * math.exp(exponent)\n",
    "    \n",
    "    return pdf\n",
    "\n",
    "\n",
    "mean = 0\n",
    "std_dev = 1\n",
    "x_value = 1.5\n",
    "\n",
    "pdf_value = normal_pdf(x_value, mean, std_dev)\n",
    "print(\"PDF at x =\", x_value, \":\", pdf_value)\n"
   ]
  },
  {
   "cell_type": "markdown",
   "id": "e0b876cd-bec0-4078-ad4b-b8e24dee9580",
   "metadata": {},
   "source": [
    "This function normal_pdf(x, mu, sigma) takes three arguments:\n",
    "\n",
    "x: The point at which to evaluate the PDF.\n",
    "\n",
    "mu: The mean of the normal distribution.\n",
    "\n",
    "sigma: The standard deviation of the normal distribution."
   ]
  },
  {
   "cell_type": "code",
   "execution_count": 4,
   "id": "bee2aa96-43b1-482f-9c37-534343eef948",
   "metadata": {},
   "outputs": [],
   "source": [
    "#Q4. What are the properties of Binomial distribution? Give two examples of events where binomial\n",
    "#distribution can be applied."
   ]
  },
  {
   "cell_type": "markdown",
   "id": "bb741796-0a5c-48c1-9899-d83610e4f083",
   "metadata": {},
   "source": [
    "ANS = The binomial distribution is a discrete probability distribution that describes the number of successes in a fixed number of independent Bernoulli trials, where each trial has the same probability of success, denoted by p. The properties of the binomial distribution include:\n",
    "\n",
    "Number of Trials: The distribution describes a fixed number of n independent trials.\n",
    "\n",
    "Success/Failure: Each trial results in a success with probability \n",
    "p and a failure with probability 1−p.\n",
    "\n",
    "Independence: The outcome of each trial is independent of the outcomes of other trials.\n",
    "\n",
    "Discreteness: The number of successes k, is a discrete random variable that ranges from 0 to n.\n",
    "\n",
    "Probability Mass Function (PMF): The probability mass function of the binomial distribution is given by:\n",
    "\n",
    "P(X=k)=( k/n )⋅ p^k ⋅(1−p)^n−k\n",
    "\n",
    "where X is the random variable representing the number of successes, k is the number of successes, n is thenumber of trials, p is the probability of success in each trial, and (n/k) is the binomial coefficient, also known as \"nchoose k\".\n",
    "\n",
    "Examples of events where the binomial distribution can be applied include:\n",
    "\n",
    "Coin Flipping: The number of heads obtained when flipping a biased coin (with probability of heads p) a fixed number of times n.Medical Trials: The number of patients in a clinical trial who recover from a certain treatment out of a fixed number of patients n, given that each patient has a certain probability p of recovery.\n",
    "These examples illustrate situations where there are only two possible outcomes for each trial (success or failure), and the trials are independent of each other.\n",
    "\n",
    "\n"
   ]
  },
  {
   "cell_type": "code",
   "execution_count": 1,
   "id": "0b760150-c14c-4ffa-8c59-36da163b2c6d",
   "metadata": {},
   "outputs": [],
   "source": [
    "# Q5. Generate a random sample of size 1000 from a binomial distribution with probability of success 0.4 \n",
    "#and plot a histogram of the results using matplotlib."
   ]
  },
  {
   "cell_type": "markdown",
   "id": "107d9473-2ab3-42df-9137-38eb556ee9d1",
   "metadata": {},
   "source": [
    "ANS = To generate a random sample of size 1000 from a binomial distribution with a probability of success p=0.4, and then plot a histogram of the results using Matplotlib, you can follow these steps in Python:\n",
    "\n"
   ]
  },
  {
   "cell_type": "code",
   "execution_count": 2,
   "id": "43fd1107-f1a7-40f3-b78c-0446baccc1bd",
   "metadata": {},
   "outputs": [
    {
     "data": {
      "image/png": "[encoded data removed]",
      "text/plain": [
       "<Figure size 640x480 with 1 Axes>"
      ]
     },
     "metadata": {},
     "output_type": "display_data"
    }
   ],
   "source": [
    "import numpy as np\n",
    "import matplotlib.pyplot as plt\n",
    "\n",
    "# Set the parameters\n",
    "n = 1000  # Sample size\n",
    "p = 0.4   # Probability of success\n",
    "\n",
    "# Generate random sample from binomial distribution\n",
    "sample = np.random.binomial(n, p, size=1000)\n",
    "\n",
    "# Plot histogram\n",
    "plt.hist(sample, bins=20, color='skyblue', edgecolor='black')\n",
    "plt.xlabel('Number of Successes')\n",
    "plt.ylabel('Frequency')\n",
    "plt.title('Histogram of Binomial Distribution')\n",
    "plt.grid(True)\n",
    "plt.show()\n"
   ]
  },
  {
   "cell_type": "code",
   "execution_count": 3,
   "id": "04f7b5ba-5d8a-43cb-9e9b-fb49cc552a3a",
   "metadata": {},
   "outputs": [],
   "source": [
    "#Q6. Write a Python function to calculate the cumulative distribution function of a Poisson distribution \n",
    "# with given mean at a given point."
   ]
  },
  {
   "cell_type": "markdown",
   "id": "142efd45-4435-4922-9a7b-d43e2aefad5a",
   "metadata": {},
   "source": [
    "To calculate the cumulative distribution function (CDF) of a Poisson distribution with a given mean at a specific point k, you can use the formula for the Poisson CDF:\n",
    " \n",
    "F(k;λ)= ∑ e^−λ ⋅ λ^i   range of i is (i=0  to k)\n",
    "\n",
    "\n",
    "Where:\n",
    "\n",
    "F(k;λ) is the cumulative distribution function for the Poisson distribution at k,\n",
    "\n",
    "λ is the mean of the Poisson distribution,\n",
    "\n",
    "e is the base of the natural logarithm (approximately 2.71828),\n",
    "\n",
    "i! denotes the factorial of i.\n",
    "\n"
   ]
  },
  {
   "cell_type": "code",
   "execution_count": 4,
   "id": "3ddefded-5155-4933-9d65-7b249a198e52",
   "metadata": {},
   "outputs": [
    {
     "name": "stdout",
     "output_type": "stream",
     "text": [
      "The cumulative distribution function at 3 for Poisson(mean=2.5) is: 0.7575761331330659\n"
     ]
    }
   ],
   "source": [
    "import math\n",
    "\n",
    "def poisson_cdf(k, mean):\n",
    "    \"\"\"\n",
    "    Calculate the cumulative distribution function (CDF) of a Poisson distribution at point k.\n",
    "\n",
    "    Parameters:\n",
    "    - k (int): The point at which to calculate the CDF.\n",
    "    - mean (float): The mean of the Poisson distribution.\n",
    "\n",
    "    Returns:\n",
    "    - cdf (float): The value of the cumulative distribution function at point k.\n",
    "    \"\"\"\n",
    "    cdf = 0.0\n",
    "    for i in range(k + 1):\n",
    "        cdf += math.exp(-mean) * (mean ** i) / math.factorial(i)\n",
    "    return cdf\n",
    "\n",
    "# Example usage:\n",
    "mean = 2.5\n",
    "k = 3\n",
    "cdf_value = poisson_cdf(k, mean)\n",
    "print(f\"The cumulative distribution function at {k} for Poisson(mean={mean}) is: {cdf_value}\")\n"
   ]
  },
  {
   "cell_type": "code",
   "execution_count": 5,
   "id": "7c683f1b-5f95-4af7-bc5a-74b4143c71cb",
   "metadata": {},
   "outputs": [],
   "source": [
    "# Q7. How Binomial distribution different from Poisson distribution?"
   ]
  },
  {
   "cell_type": "markdown",
   "id": "d7553d5e-58f6-46d2-a02e-2e127419a6d8",
   "metadata": {},
   "source": [
    "ANS = The Binomial and Poisson distributions are both fundamental probability distributions used to model the number of successes in a series of independent trials. However, they differ in several key aspects:\n",
    "\n",
    "Definition:\n",
    "\n",
    "Binomial Distribution: Describes the number of successes in a fixed number of independent trials, where each trial has only two possible outcomes (success or failure), and the probability of success is constant for each trial.\n",
    "\n",
    "Poisson Distribution: Describes the number of events occurring in a fixed interval of time or space, given that these events occur with a known average rate and are independent of the time since the last event.\n",
    "\n",
    "Number of Trials:\n",
    "\n",
    "Binomial Distribution: The number of trials is fixed and finite.\n",
    "\n",
    "Poisson Distribution: There is no fixed number of trials; the number of events that can occur is theoretically unlimited.\n",
    "\n",
    "Nature of Events:\n",
    "\n",
    "Binomial Distribution: Typically used for events with a clear notion of success or failure (e.g., coin flips, pass/fail outcomes).\n",
    "Poisson Distribution: Used for modeling the number of occurrences of rare events over a fixed interval of time or space (e.g., number of phone calls received at a call center in an hour).\n",
    "\n",
    "Parameters:\n",
    "\n",
    "Binomial Distribution: It is characterized by two parameters: the number of trials n and the probability of success \n",
    "p in each trial.\n",
    "Poisson Distribution: It is characterized by a single parameter λ, which represents the average rate of event occurrences in the given interval.\n",
    "\n",
    "Limiting Cases:\n",
    "\n",
    "Binomial Distribution: The Binomial distribution can converge to the Poisson distribution as the number of trials (n) increases and the probability of success (p) decreases, while keeping the product np constant.\n",
    "Poisson Distribution: The Poisson distribution can be considered a limiting case of the Binomial distribution when the number of trials becomes very large and the probability of success becomes very small, such that the average rate λ=np remains constant.\n"
   ]
  },
  {
   "cell_type": "code",
   "execution_count": 6,
   "id": "1b951c37-730d-400a-adf9-e205d015c7d5",
   "metadata": {},
   "outputs": [],
   "source": [
    "# Q8. Generate a random sample of size 1000 from a Poisson distribution with mean 5 and calculate the \n",
    "# sample mean and variance."
   ]
  },
  {
   "cell_type": "markdown",
   "id": "a4f1f238-8fc6-45c3-b0ce-a839885e5889",
   "metadata": {},
   "source": [
    "ANS = To generate a random sample of size 1000 from a Poisson distribution with a mean of 5 and then calculate the sample mean and variance in Python, you can use the numpy library.\n"
   ]
  },
  {
   "cell_type": "code",
   "execution_count": 1,
   "id": "889ebd0c-cddf-4a7a-917a-07aec1db9871",
   "metadata": {},
   "outputs": [
    {
     "name": "stdout",
     "output_type": "stream",
     "text": [
      "Sample mean: 5.028\n",
      "Sample variance: 5.109216\n"
     ]
    }
   ],
   "source": [
    "import numpy as np\n",
    "\n",
    "\n",
    "mean = 5\n",
    "sample_size = 1000\n",
    "\n",
    "\n",
    "sample = np.random.poisson(mean, size=sample_size)\n",
    "\n",
    "\n",
    "sample_mean = np.mean(sample)\n",
    "sample_variance = np.var(sample)\n",
    "\n",
    "print(f\"Sample mean: {sample_mean}\")\n",
    "print(f\"Sample variance: {sample_variance}\")\n"
   ]
  },
  {
   "cell_type": "code",
   "execution_count": 2,
   "id": "b28cf549-5d7a-4ee9-b606-47f711ae64ec",
   "metadata": {},
   "outputs": [],
   "source": [
    "# Q9. How mean and variance are related in Binomial distribution and Poisson distribution?"
   ]
  },
  {
   "cell_type": "markdown",
   "id": "7e6e2a42-9230-455a-890f-48f116a6499c",
   "metadata": {},
   "source": [
    "ANS = \n",
    "In both the Binomial and Poisson distributions, the mean and variance play important roles in characterizing the distributions. However, their relationships differ somewhat between the two distributions.\n",
    "\n",
    "Binomial Distribution:\n",
    "In a Binomial distribution with parameters n (number of trials) and p (probability of success), the mean (μ) and variance (σ^2) are related as follows:\n",
    "\n",
    "Mean: \n",
    "μ=np\n",
    "\n",
    "Variance: \n",
    "σ^2=np(1−p)\n",
    "Here, the variance is directly proportional to \n",
    "\n",
    "np(1−p), which is the product of the number of trials (n), the probability of success (p), and the probability of failure (1−p). As the probability of success \n",
    "\n",
    "p moves away from 0.5 (i.e., more skewed distributions), the variance tends to increase.\n",
    "\n",
    "\n",
    "\n",
    "\n",
    "In both the Binomial and Poisson distributions, the mean and variance play important roles in characterizing the distributions. However, their relationships differ somewhat between the two distributions.\n",
    "\n",
    "Binomial Distribution:\n",
    "\n",
    "In a Binomial distribution with parameters n (number of trials) and p (probability of success), the mean (μ) and variance (σ^2) are related as follows:\n",
    "\n",
    "Mean: \n",
    "\n",
    "μ=np\n",
    "Variance: \n",
    "\n",
    "σ^2=np(1−p)\n",
    "\n",
    "Here, the variance is directly proportional to \n",
    "\n",
    "np(1−p), which is the product of the number of trials (n), the probability of success (p), and the probability of failure (1−p). As the probability of success p moves away from 0.5 (i.e., more skewed distributions), the variance tends to increase.\n",
    "\n",
    "Poisson Distribution:\n",
    "\n",
    "In a Poisson distribution with parameter λ (the average rate of occurrences), the mean (μ) and variance (σ^2) are related as follows:\n",
    "\n",
    "Mean: \n",
    "\n",
    "μ=λ\n",
    "\n",
    "Variance: \n",
    "\n",
    "σ^2=λ\n",
    "\n",
    "In the Poisson distribution, the mean and variance are equal and are both equal to λ, which is the average rate of events occurring in the given interval. This property reflects the fact that in a Poisson process, the occurrences of events are considered to be random and independent, and the variance is solely determined by the average rate of occurrence."
   ]
  },
  {
   "cell_type": "code",
   "execution_count": 3,
   "id": "e085af09-c6a4-4818-bafc-a63ea57b8f22",
   "metadata": {},
   "outputs": [],
   "source": [
    "# Q10. In normal distribution with respect to mean position, where does the least frequent data appear?"
   ]
  },
  {
   "cell_type": "markdown",
   "id": "e737abb9-fe7d-4ba8-a4e5-269875beb6e6",
   "metadata": {},
   "source": [
    "ANS = \n",
    "In a normal distribution, the least frequent data points appear at the tails of the distribution, farthest away from the mean position.\n",
    "\n",
    "A normal distribution is symmetric around its mean, and it follows the famous \"bell-shaped curve\" pattern. The tails of the normal distribution represent the extreme values, both on the left (lower tail) and on the right (upper tail) sides of the distribution.\n",
    "\n",
    "Here's a breakdown:\n",
    "\n",
    "Mean Position: The mean of a normal distribution is located at the center of the distribution, and it represents the highest point of the curve.\n",
    "\n",
    "Least Frequent Data: \n",
    "\n",
    "The least frequent data points are located at the tails of the distribution, which are the regions of the curve farthest away from the mean. These tails represent the extreme values in the distribution.\n",
    "\n",
    "Areas Under the Curve: \n",
    "\n",
    "The normal distribution curve is continuous, and the area under the curve represents the probability of observing data within a certain range. The tails represent the lower probabilities, indicating that data points in these regions are less likely to occur.\n",
    "\n",
    "Therefore, the least frequent data points in a normal distribution appear in the tails, which are located farthest away from the mean position."
   ]
  },
  {
   "cell_type": "code",
   "execution_count": null,
   "id": "0f207afe-8c96-40d6-bd81-101cbf480804",
   "metadata": {},
   "outputs": [],
   "source": []
  }
 ],
 "metadata": {
  "kernelspec": {
   "display_name": "Python 3 (ipykernel)",
   "language": "python",
   "name": "python3"
  },
  "language_info": {
   "codemirror_mode": {
    "name": "ipython",
    "version": 3
   },
   "file_extension": ".py",
   "mimetype": "text/x-python",
   "name": "python",
   "nbconvert_exporter": "python",
   "pygments_lexer": "ipython3",
   "version": "3.10.8"
  }
 },
 "nbformat": 4,
 "nbformat_minor": 5
}
